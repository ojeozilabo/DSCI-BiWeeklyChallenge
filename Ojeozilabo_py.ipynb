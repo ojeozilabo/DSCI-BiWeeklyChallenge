{
  "nbformat": 4,
  "nbformat_minor": 0,
  "metadata": {
    "colab": {
      "name": "Ojeozilabo.py",
      "provenance": [],
      "collapsed_sections": [],
      "authorship_tag": "ABX9TyNRHdIFsNIRVtcKhLcj4hE+",
      "include_colab_link": true
    },
    "kernelspec": {
      "name": "python3",
      "display_name": "Python 3"
    },
    "language_info": {
      "name": "python"
    }
  },
  "cells": [
    {
      "cell_type": "markdown",
      "metadata": {
        "id": "view-in-github",
        "colab_type": "text"
      },
      "source": [
        "<a href=\"https://colab.research.google.com/github/ojeozilabo/DSCI-BiWeeklyChallenge/blob/main/Ojeozilabo_py.ipynb\" target=\"_parent\"><img src=\"https://colab.research.google.com/assets/colab-badge.svg\" alt=\"Open In Colab\"/></a>"
      ]
    },
    {
      "cell_type": "code",
      "metadata": {
        "colab": {
          "base_uri": "https://localhost:8080/"
        },
        "id": "M2aH1kDLZ9eX",
        "outputId": "ce6b6b89-ae5a-4ef4-a616-95ea87a139b9"
      },
      "source": [
        "name = input(\"Enter name: \")\n",
        "age = input(\"Enter age: \")\n",
        "print(\"Hi, my name is \" + name + \", and I am \" + age + \" years old.\")\n"
      ],
      "execution_count": 106,
      "outputs": [
        {
          "output_type": "stream",
          "name": "stdout",
          "text": [
            "Enter name: Adeoye\n",
            "Enter age: 38\n",
            "Hi, my name is Adeoye, and I am 38 years old.\n"
          ]
        }
      ]
    },
    {
      "cell_type": "code",
      "metadata": {
        "id": "6ZAFLOXkUlAI"
      },
      "source": [
        "year = 2021"
      ],
      "execution_count": 107,
      "outputs": []
    },
    {
      "cell_type": "code",
      "metadata": {
        "colab": {
          "base_uri": "https://localhost:8080/"
        },
        "id": "DYiUQky-aVn6",
        "outputId": "ab687582-9a31-48a2-b403-3d296729ac8e"
      },
      "source": [
        "dob = year- int(age)\n",
        "print(dob)\n"
      ],
      "execution_count": 109,
      "outputs": [
        {
          "output_type": "stream",
          "name": "stdout",
          "text": [
            "1983\n"
          ]
        }
      ]
    },
    {
      "cell_type": "code",
      "metadata": {
        "colab": {
          "base_uri": "https://localhost:8080/"
        },
        "id": "g9xb2hxYBWk-",
        "outputId": "4ba7c79b-2f54-4f26-a336-8054289e0d92"
      },
      "source": [
        "age = 38\n",
        "if (age <=1): \n",
        "  group = \"infants\"\n",
        "elif (age >=1) & (age <=11):\n",
        "  group = \"Children\"\n",
        "elif (age >=11) & (age <=18):\n",
        "  group = \"Teens\"\n",
        "elif (age >=18) & (age <=65):\n",
        "  group = \"Adults\"\n",
        "else:\n",
        "  group = \"older Adult\"\n",
        "print(group)\n"
      ],
      "execution_count": 110,
      "outputs": [
        {
          "output_type": "stream",
          "name": "stdout",
          "text": [
            "Adults\n"
          ]
        }
      ]
    },
    {
      "cell_type": "code",
      "metadata": {
        "id": "-Dl-QWi_NkQj"
      },
      "source": [
        "dec_ago = age - 10"
      ],
      "execution_count": 111,
      "outputs": []
    },
    {
      "cell_type": "code",
      "metadata": {
        "colab": {
          "base_uri": "https://localhost:8080/"
        },
        "id": "8Z7Pu7jtNkJb",
        "outputId": "1657dc8d-5db7-48a5-e3a0-ba2ad9e4a28d"
      },
      "source": [
        "dec_ago"
      ],
      "execution_count": 112,
      "outputs": [
        {
          "output_type": "execute_result",
          "data": {
            "text/plain": [
              "28"
            ]
          },
          "metadata": {},
          "execution_count": 112
        }
      ]
    },
    {
      "cell_type": "code",
      "metadata": {
        "colab": {
          "base_uri": "https://localhost:8080/"
        },
        "id": "MfzK5SfWOnjH",
        "outputId": "02bce4f5-9ff5-4676-8750-2c864a960ab0"
      },
      "source": [
        "for i in range(10, 60, 10):\n",
        "  print(i)"
      ],
      "execution_count": 113,
      "outputs": [
        {
          "output_type": "stream",
          "name": "stdout",
          "text": [
            "10\n",
            "20\n",
            "30\n",
            "40\n",
            "50\n"
          ]
        }
      ]
    },
    {
      "cell_type": "code",
      "metadata": {
        "colab": {
          "base_uri": "https://localhost:8080/"
        },
        "id": "ROyuRIg6Q8Ys",
        "outputId": "9ca76ef0-72a5-4793-a4fc-9072140f71a4"
      },
      "source": [
        "current_age =38\n",
        "current_year =2020\n",
        "new_age = []\n",
        "new_year = []\n",
        "\n",
        "\n",
        "for i in range(10, 60, 10):\n",
        "  new = age + i\n",
        "  new_age.append(new)\n",
        "  print (new_age)\n",
        "  new_y = year + i\n",
        "  new_year.append(new_y)\n",
        "  print(new_year)\n",
        "\n"
      ],
      "execution_count": 115,
      "outputs": [
        {
          "output_type": "stream",
          "name": "stdout",
          "text": [
            "[48]\n",
            "[2031]\n",
            "[48, 58]\n",
            "[2031, 2041]\n",
            "[48, 58, 68]\n",
            "[2031, 2041, 2051]\n",
            "[48, 58, 68, 78]\n",
            "[2031, 2041, 2051, 2061]\n",
            "[48, 58, 68, 78, 88]\n",
            "[2031, 2041, 2051, 2061, 2071]\n"
          ]
        }
      ]
    },
    {
      "cell_type": "code",
      "metadata": {
        "colab": {
          "base_uri": "https://localhost:8080/"
        },
        "id": "VzJYLXOeTwJI",
        "outputId": "d2b98b49-7f28-4051-e8c2-63a79b70fadd"
      },
      "source": [
        "new_year"
      ],
      "execution_count": 116,
      "outputs": [
        {
          "output_type": "execute_result",
          "data": {
            "text/plain": [
              "[2031, 2041, 2051, 2061, 2071]"
            ]
          },
          "metadata": {},
          "execution_count": 116
        }
      ]
    },
    {
      "cell_type": "code",
      "metadata": {
        "colab": {
          "base_uri": "https://localhost:8080/"
        },
        "id": "U6Ns93haUqqy",
        "outputId": "a61aa7b3-9924-4363-ccac-189515e72409"
      },
      "source": [
        "new_age"
      ],
      "execution_count": 117,
      "outputs": [
        {
          "output_type": "execute_result",
          "data": {
            "text/plain": [
              "[48, 58, 68, 78, 88]"
            ]
          },
          "metadata": {},
          "execution_count": 117
        }
      ]
    },
    {
      "cell_type": "code",
      "metadata": {
        "colab": {
          "base_uri": "https://localhost:8080/"
        },
        "id": "WhVmSkpIbndD",
        "outputId": "14dd515b-a278-4a67-8228-d8278274298d"
      },
      "source": [
        "len(new_age)"
      ],
      "execution_count": 118,
      "outputs": [
        {
          "output_type": "execute_result",
          "data": {
            "text/plain": [
              "5"
            ]
          },
          "metadata": {},
          "execution_count": 118
        }
      ]
    },
    {
      "cell_type": "code",
      "metadata": {
        "colab": {
          "base_uri": "https://localhost:8080/"
        },
        "id": "T-DlvEQPUzym",
        "outputId": "1e313f4e-6ff8-4efe-d801-e48993976233"
      },
      "source": [
        "for i in range(len(new_age)):\n",
        " a = new_age[i]\n",
        " b = new_year[i]\n",
        " print (a, b)"
      ],
      "execution_count": 119,
      "outputs": [
        {
          "output_type": "stream",
          "name": "stdout",
          "text": [
            "48 2031\n",
            "58 2041\n",
            "68 2051\n",
            "78 2061\n",
            "88 2071\n"
          ]
        }
      ]
    },
    {
      "cell_type": "code",
      "metadata": {
        "id": "vqtrhT1_fKPr",
        "colab": {
          "base_uri": "https://localhost:8080/"
        },
        "outputId": "7f5c49e8-7ad0-4573-ea2a-0328ff2abfa2"
      },
      "source": [
        " new_age[1]"
      ],
      "execution_count": 121,
      "outputs": [
        {
          "output_type": "execute_result",
          "data": {
            "text/plain": [
              "58"
            ]
          },
          "metadata": {},
          "execution_count": 121
        }
      ]
    },
    {
      "cell_type": "code",
      "metadata": {
        "colab": {
          "base_uri": "https://localhost:8080/"
        },
        "id": "iUC8pqkdZPU0",
        "outputId": "c8cee459-a5b0-42ae-a7f7-710c720538fb"
      },
      "source": [
        "import numpy as np\n",
        "next_fifty_age = np.array=([36,46,56,66,77])\n",
        "next_fifty_age"
      ],
      "execution_count": 123,
      "outputs": [
        {
          "output_type": "execute_result",
          "data": {
            "text/plain": [
              "[36, 46, 56, 66, 77]"
            ]
          },
          "metadata": {},
          "execution_count": 123
        }
      ]
    },
    {
      "cell_type": "code",
      "metadata": {
        "colab": {
          "base_uri": "https://localhost:8080/"
        },
        "id": "7ZN3e2pPZfsh",
        "outputId": "cb314879-ec07-4bd8-d180-2b3dac05d864"
      },
      "source": [
        "next_fifty_year = np.array =([2030,2040,2050,2060,2070])\n",
        "next_fifty_year"
      ],
      "execution_count": 124,
      "outputs": [
        {
          "output_type": "execute_result",
          "data": {
            "text/plain": [
              "[2030, 2040, 2050, 2060, 2070]"
            ]
          },
          "metadata": {},
          "execution_count": 124
        }
      ]
    },
    {
      "cell_type": "code",
      "metadata": {
        "colab": {
          "base_uri": "https://localhost:8080/"
        },
        "id": "KXMj9-IwZ-ZL",
        "outputId": "57292e09-ed35-4e29-8754-82a396cd0985"
      },
      "source": [
        "first_concat = \"Hi, \" +\" Mr \"+str(name)+\" of \"+ str(age) +\" years old,\"\n",
        "print(first_concat)\n",
        "second_concat = \"Your year of birth is \"+ str(dob)\n",
        "print(second_concat)\n",
        "third_concat = \"As you are \"+str(age)+\" years old \" +\" you are an \"+str(group) \n",
        "print(third_concat)\n",
        "fourth_concat = \"In 2011 you were-\"+str(dec_ago)+\" Years old, \"\n",
        "print(fourth_concat)\n",
        "fifth_concat = \"In \"+str(new_year[0])+\", You'll be \"+str(new_age[0])+\" years old\"\n",
        "print(fifth_concat)\n",
        "sixth_concat = \"In \"+str(new_year[1])+\", You'll be \"+str(new_age[1])+\" years old\"\n",
        "print(sixth_concat)\n",
        "seventh_concat = \"In \"+str(new_year[2])+\", You'll be \"+str(new_age[2])+\" years old\"\n",
        "print(seventh_concat)\n",
        "eigth_concat = \"In \"+str(new_year[3])+\", You'll be \"+str(new_age[3])+\" years old\"\n",
        "print(eigth_concat)\n",
        "ninth_concat = \"In \"+str(new_year[4])+\", You'll be \"+str(new_age[4])+\" years old\"\n",
        "print(ninth_concat)\n"
      ],
      "execution_count": 134,
      "outputs": [
        {
          "output_type": "stream",
          "name": "stdout",
          "text": [
            "Hi,  Mr Adeoye of 38 years old,\n",
            "Your year of birth is 1983\n",
            "As you are 38 years old  you are an Adults\n",
            "In 2011 you were-28 Years old, \n",
            "In 2031, You'll be 48 years old\n",
            "In 2041, You'll be 58 years old\n",
            "In 2051, You'll be 68 years old\n",
            "In 2061, You'll be 78 years old\n",
            "In 2071, You'll be 88 years old\n"
          ]
        }
      ]
    }
  ]
}